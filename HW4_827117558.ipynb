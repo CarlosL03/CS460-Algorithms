{
 "cells": [
  {
   "cell_type": "code",
   "execution_count": 2,
   "id": "26a709f9",
   "metadata": {},
   "outputs": [],
   "source": [
    "from collections import deque\n",
    "import sys"
   ]
  },
  {
   "cell_type": "markdown",
   "id": "7d8f3412",
   "metadata": {},
   "source": [
    "## Q1"
   ]
  },
  {
   "cell_type": "code",
   "execution_count": 3,
   "id": "20cadf0f",
   "metadata": {},
   "outputs": [],
   "source": [
    "# A class for directed graph object\n",
    "class DGraph:\n",
    "    def __init__(self, edges, n):\n",
    " \n",
    "        # A list of lists to represent an adjacency list\n",
    "        self.adjList = [[] for _ in range(n)]\n",
    " \n",
    "        # add edges to the directed graph\n",
    "        for (src, dest) in edges:\n",
    "            # add an edge from source to destination\n",
    "            self.adjList[src].append(dest)"
   ]
  },
  {
   "cell_type": "code",
   "execution_count": 9,
   "id": "a8fd3b3b",
   "metadata": {},
   "outputs": [],
   "source": [
    "# Write your DFS_enhanced function to record finish time of each vertex\n",
    "# You can modify arguments and define other functions if it needs\n",
    "def DFS_enhanced(graph, v, discovered, departure, time):\n",
    "    # Write your code here (remove pass)\n",
    "    discovered[v] = True\n",
    "    time = time + 1\n",
    "    \n",
    "    for u in graph.adjList[v]:\n",
    "        if not discovered[u]:\n",
    "            time = DFS_enhanced(graph, u, discovered, departure, time)\n",
    "    \n",
    "    departure[time] = v\n",
    "    time = time + 1\n",
    "    return time"
   ]
  },
  {
   "cell_type": "code",
   "execution_count": 10,
   "id": "98168181",
   "metadata": {},
   "outputs": [],
   "source": [
    "# Write your own doTopologicalSort function to print vertex in a topological order\n",
    "def doTopologicalSort(graph, n):\n",
    "    # Write your code here (remove pass)\n",
    "    departure = [-1] * 2 * n\n",
    "    discovered = [False] * n\n",
    "    time = 0\n",
    "    \n",
    "    for i in range(n):\n",
    "        if not discovered[i]:\n",
    "            time = DFS_enhanced(graph, i, discovered, departure, time)\n",
    "            \n",
    "    for i in reversed(range(2*n)):\n",
    "        if departure[i] != -1:\n",
    "            print(departure[i], end=' ')"
   ]
  },
  {
   "cell_type": "code",
   "execution_count": 11,
   "id": "2e8770f0",
   "metadata": {},
   "outputs": [
    {
     "name": "stdout",
     "output_type": "stream",
     "text": [
      "7 5 3 1 4 2 0 6 "
     ]
    }
   ],
   "source": [
    "# Nothing to be modified in this cell, but should print the answer for Q1\n",
    "edges = [(0, 6), (1, 2), (1, 4), (1, 6), (3, 0), (3, 4), (5, 1), (7, 0), (7, 1)]\n",
    " \n",
    "# Total number of nodes in the graph\n",
    "n = 8\n",
    " \n",
    "# Build a graph from the given edges\n",
    "dgraph = DGraph(edges, n)\n",
    " \n",
    "# perform topological sort\n",
    "doTopologicalSort(dgraph, n)"
   ]
  },
  {
   "cell_type": "markdown",
   "id": "e36d936a",
   "metadata": {},
   "source": [
    "## Q2"
   ]
  },
  {
   "cell_type": "code",
   "execution_count": 21,
   "id": "36c41006",
   "metadata": {},
   "outputs": [],
   "source": [
    "class Graph:\n",
    "    def __init__(self, num_of_nodes):\n",
    "        self.m_num_of_nodes = num_of_nodes\n",
    "        self.m_graph = []\n",
    "\n",
    "    def add_edge(self, node1, node2, weight):\n",
    "        # Write your code here (remove pass)\n",
    "        self.m_graph.append([node1, node2, weight])\n",
    "        \n",
    "    # Finds the root node of a subtree containing node i\n",
    "    def find_subtree(self, parent, i):\n",
    "        # Write your code here (remove pass)\n",
    "        if parent[i] == i:\n",
    "            return i\n",
    "        \n",
    "        return self.find_subtree(parent, parent[i])\n",
    "    \n",
    "    # Connects subtrees containing nodes x and y\n",
    "    def connect_subtrees(self, parent, subtree_sizes, x, y):\n",
    "        # Write your code here (remove pass)\n",
    "        xnode = self.find_subtree(parent, x)\n",
    "        ynode = self.find_subtree(parent, y)\n",
    "        \n",
    "        if subtree_sizes[xnode] > subtree_sizes[ynode]:\n",
    "            parent[ynode] = xnode\n",
    "            \n",
    "        elif subtree_sizes[xnode] < subtree_sizes[ynode]:\n",
    "            parent[xnode] = ynode\n",
    "        \n",
    "        else:\n",
    "            parent[ynode] = xnode\n",
    "            subtree_sizes[xnode] += 1\n",
    "    \n",
    "    def MST_Kruskal(self):\n",
    "        # Write your code here (remove pass)\n",
    "        MST = []\n",
    "        \n",
    "        i = 0 \n",
    "        e = 0\n",
    "        \n",
    "        self.m_graph = sorted(self.m_graph, key=lambda item: item[2])\n",
    "        \n",
    "        parent = []\n",
    "        subtree_sizes = []\n",
    "        \n",
    "        for node in range(self.m_num_of_nodes):\n",
    "            parent.append(node)\n",
    "            subtree_sizes.append(0)\n",
    "            \n",
    "        while e < (self.m_num_of_nodes - 1):\n",
    "            node1, node2, weight = self.m_graph[i]\n",
    "            i += 1\n",
    "            \n",
    "            x = self.find_subtree(parent, node1)\n",
    "            y = self.find_subtree(parent, node2)\n",
    "            \n",
    "            if x != y:\n",
    "                e += 1\n",
    "                MST.append([node1, node2, weight])\n",
    "                self.connect_subtrees(parent, subtree_sizes, x, y)\n",
    "        count = 0        \n",
    "        for node1, node2, weight in MST:\n",
    "            count += weight\n",
    "            print(\"%d-%d: %d\" % (node1, node2, weight))\n",
    "        print(\"Total sum of MST: \" + str(count))"
   ]
  },
  {
   "cell_type": "code",
   "execution_count": 22,
   "id": "6ddbeb44",
   "metadata": {},
   "outputs": [
    {
     "name": "stdout",
     "output_type": "stream",
     "text": [
      "2-5: 1\n",
      "4-5: 1\n",
      "3-4: 2\n",
      "5-7: 3\n",
      "0-1: 4\n",
      "6-8: 5\n",
      "3-6: 6\n",
      "0-2: 7\n",
      "Total sum of MST: 29\n"
     ]
    }
   ],
   "source": [
    "# Write your code to build a graph of Figure 1. (Use your Graph class in the above)\n",
    "# Run MST_Kruskal to print out all edges with the weight of the final MST and \n",
    "# print the total sum of the weights of the final MST\n",
    "\n",
    "k_graph = Graph(9)\n",
    "k_graph.add_edge(0, 1, 4)\n",
    "k_graph.add_edge(0, 2, 7)\n",
    "k_graph.add_edge(1, 2, 11)\n",
    "k_graph.add_edge(2, 5, 1)\n",
    "k_graph.add_edge(1, 5, 20)\n",
    "k_graph.add_edge(3, 4, 2)\n",
    "k_graph.add_edge(1, 3, 9)\n",
    "k_graph.add_edge(4, 5, 1)\n",
    "k_graph.add_edge(3, 6, 6)\n",
    "k_graph.add_edge(5, 7, 3)\n",
    "k_graph.add_edge(4, 8, 15)\n",
    "k_graph.add_edge(4, 6, 10)\n",
    "k_graph.add_edge(7, 8, 12)\n",
    "k_graph.add_edge(4, 7, 5)\n",
    "k_graph.add_edge(6, 8, 5)\n",
    "\n",
    "\n",
    "k_graph.MST_Kruskal()\n",
    "\n",
    "\n",
    "\n",
    "# End of your code"
   ]
  },
  {
   "cell_type": "markdown",
   "id": "dbf41c16",
   "metadata": {},
   "source": [
    "## Q3"
   ]
  },
  {
   "cell_type": "code",
   "execution_count": 9,
   "id": "08f00926",
   "metadata": {},
   "outputs": [],
   "source": [
    "# Write your code here, e.g. functions, class, etc\n",
    "import heapq\n",
    "\n",
    "def MST_Prim(arr):\n",
    "    #n = vertices, #m = edges\n",
    "    n, m, z = arr[0]\n",
    "    arr.remove(arr[0])\n",
    "    \n",
    "    adj = [[] for _ in range(n + 1)]\n",
    "    for i in range(1, m+1):\n",
    "        u, v, w = arr[i-1]\n",
    "        adj[u].append((v, w))\n",
    "        adj[v].append((u, w))\n",
    "    \n",
    "    pq = []\n",
    "    visited = [False] * (n+1)\n",
    "    count = 0\n",
    "    \n",
    "    heapq.heappush(pq, (1, 0))\n",
    "        \n",
    "    while pq:\n",
    "        u, w = heapq.heappop(pq)\n",
    "        \n",
    "        if visited[u]:\n",
    "            continue\n",
    "        count += w\n",
    "        visited[u] = True\n",
    "        \n",
    "        for v, wt in adj[u]:\n",
    "            if not visited[v]:\n",
    "                heapq.heappush(pq, (v, wt))\n",
    "    \n",
    "    for i in range(1, len(visited)):\n",
    "        if visited[i] == False:\n",
    "            return -1\n",
    "    \n",
    "    return count\n",
    "        \n",
    "    \n",
    "    \n",
    "# End of your code"
   ]
  },
  {
   "cell_type": "code",
   "execution_count": 10,
   "id": "a91f3cc6",
   "metadata": {},
   "outputs": [
    {
     "name": "stdout",
     "output_type": "stream",
     "text": [
      "-1\n",
      "38\n"
     ]
    }
   ],
   "source": [
    "test3_1 = [[5, 4, 0], [1, 2, 1], [2, 3, 1], [3, 1, 1], [4, 5, 5]]\n",
    "test3_2 = [[8, 10, 0], [1, 2, 4], [2, 3, 9], [2, 4, 9], [3, 4, 4], [3, 5, 1], [4, 6, 14], [6, 7, 5], [5, 7, 3], [7, 8, 7], [6, 8, 3]]\n",
    "# Print your solution with the 'test3_1' and 'test3_2' cases\n",
    "\n",
    "print(MST_Prim(test3_1))\n",
    "print(MST_Prim(test3_2))"
   ]
  },
  {
   "cell_type": "markdown",
   "id": "dff2dfab",
   "metadata": {},
   "source": [
    "## Q4"
   ]
  },
  {
   "cell_type": "code",
   "execution_count": 11,
   "id": "6e0a7d3b",
   "metadata": {},
   "outputs": [],
   "source": [
    "# Write your code here, e.g. functions, class, etc\n",
    "class UGraph:\n",
    "    def __init__(self, edges, n):\n",
    "        # A list of lists to represent an adjacency list\n",
    "        self.adjList = [[] for _ in range(n)]\n",
    " \n",
    "        # add edges to the undirected graph\n",
    "        for (src, dest) in edges:\n",
    "            self.adjList[src].append(dest)\n",
    "            self.adjList[dest].append(src)\n",
    "\n",
    "def findPath(graph, src, dest):\n",
    "    q = deque()\n",
    "    \n",
    "    #append source vertex and depth value which is 0 by default\n",
    "    # depth value must be <= 6 for every vertex to every other vertex\n",
    "    q.append((src, 0))\n",
    "    res = False\n",
    "    \n",
    "    while q:\n",
    "        v, depth = q.popleft()\n",
    "        \n",
    "        if v == dest and depth <= 6:\n",
    "            res = True\n",
    "            break\n",
    "        if depth > 6:\n",
    "            break\n",
    "            \n",
    "        \n",
    "        for u in graph.adjList[v]:\n",
    "            q.append((u, depth+1))\n",
    "    \n",
    "    return res\n",
    "            \n",
    "def SmallWorlds(edges):\n",
    "    #n=vertices, k=edges\n",
    "    n, k = edges[0]\n",
    "    edges.remove(edges[0])\n",
    "    \n",
    "    graph = UGraph(edges, n+1)\n",
    "    \n",
    "    for i in range(1, n+1):\n",
    "        for j in range(2, n+1):\n",
    "            if i == j:\n",
    "                continue\n",
    "            elif j < i:\n",
    "                continue\n",
    "            n = findPath(graph, i, j)\n",
    "            if not n:\n",
    "                return \"Big World!\"\n",
    "    return \"Small World!\"\n",
    "            \n",
    "\n",
    "\n",
    "# End of your code"
   ]
  },
  {
   "cell_type": "code",
   "execution_count": 12,
   "id": "5f2567cb",
   "metadata": {},
   "outputs": [
    {
     "name": "stdout",
     "output_type": "stream",
     "text": [
      "Small World!\n",
      "Big World!\n"
     ]
    }
   ],
   "source": [
    "test4_1 = [[5, 5], [1, 2], [2, 3], [3, 5], [1, 4], [1, 3]]\n",
    "test4_2 = [[10, 8], [1, 2], [2, 3], [3, 4], [4, 5], [6, 7], [7, 8], [8, 9], [9, 10]]\n",
    "# Print your solution with the 'test4_1' and 'test4_2' cases\n",
    "print(SmallWorlds(test4_1))\n",
    "print(SmallWorlds(test4_2))"
   ]
  },
  {
   "cell_type": "code",
   "execution_count": null,
   "id": "021898e3",
   "metadata": {},
   "outputs": [],
   "source": []
  }
 ],
 "metadata": {
  "kernelspec": {
   "display_name": "Python 3 (ipykernel)",
   "language": "python",
   "name": "python3"
  },
  "language_info": {
   "codemirror_mode": {
    "name": "ipython",
    "version": 3
   },
   "file_extension": ".py",
   "mimetype": "text/x-python",
   "name": "python",
   "nbconvert_exporter": "python",
   "pygments_lexer": "ipython3",
   "version": "3.11.4"
  }
 },
 "nbformat": 4,
 "nbformat_minor": 5
}
