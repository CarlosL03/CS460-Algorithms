{
 "cells": [
  {
   "cell_type": "markdown",
   "id": "ba18fa10",
   "metadata": {},
   "source": [
    "## <center>Programming HW #2</center>"
   ]
  },
  {
   "cell_type": "code",
   "execution_count": 1,
   "id": "df136736",
   "metadata": {},
   "outputs": [],
   "source": [
    "import numpy as np\n",
    "# Import timer lib. to measure running time\n",
    "from timeit import default_timer as timer\n",
    "# Import plot lib. to plot results\n",
    "import matplotlib.pyplot as plt\n",
    "import math, sys\n",
    "from typing import List\n",
    "import timeit\n",
    "import random"
   ]
  },
  {
   "cell_type": "markdown",
   "id": "8db5fbba",
   "metadata": {},
   "source": [
    "## Q1. Quicksort"
   ]
  },
  {
   "cell_type": "code",
   "execution_count": 9,
   "id": "8ee183bb",
   "metadata": {},
   "outputs": [],
   "source": [
    "def partition(arr, low, high):\n",
    "    # arr: inputs, low & high: first & last index of an array \n",
    "    # your code here (remove pass)\n",
    "    x = arr[high]\n",
    "    i = low-1\n",
    "    for j in range(low, high):\n",
    "        if arr[j] <= x:\n",
    "            i += 1\n",
    "            temp = arr[j]\n",
    "            arr[j] = arr[i]\n",
    "            arr[i] = temp\n",
    "    temp = arr[i+1]\n",
    "    arr[i+1] = arr[high]\n",
    "    arr[high] = temp\n",
    "    \n",
    "    return i + 1\n",
    " \n",
    "def quick_sort(arr, low, high):\n",
    "    # your code here (remove pass)\n",
    "    if low < high:\n",
    "        q = partition(arr, low, high)\n",
    "        quick_sort(arr, low, q - 1)\n",
    "        quick_sort(arr, q + 1, high)\n"
   ]
  },
  {
   "cell_type": "code",
   "execution_count": 16,
   "id": "f8ea2382",
   "metadata": {},
   "outputs": [
    {
     "name": "stdout",
     "output_type": "stream",
     "text": [
      "[42, 164, 253, 287, 294, 363, 409, 415, 536, 543, 551, 584, 593, 625, 715, 791, 847, 873, 893, 919]\n",
      "9.445799878449179e-05\n",
      "[10]\n"
     ]
    }
   ],
   "source": [
    "input_A = [536,42,543,551,164,287,584,873,409,715,294,415,893,791,625,363,919,253,593,847]\n",
    "input_B = [10]\n",
    "\n",
    "# [Q1 - (1)] Start your code ...\n",
    "start = timer()\n",
    "quick_sort(input_A, 0, len(input_A)-1)\n",
    "end = timer()\n",
    "quick_sort(input_B, 0, len(input_B)-1)\n",
    "print(input_A)\n",
    "print(end - start)\n",
    "print(input_B)\n",
    "# ... End of your code"
   ]
  },
  {
   "cell_type": "code",
   "execution_count": 13,
   "id": "581f9514",
   "metadata": {},
   "outputs": [
    {
     "name": "stdout",
     "output_type": "stream",
     "text": [
      "0.009742499998537824\n"
     ]
    }
   ],
   "source": [
    "# [Q1 - (2)] Start your code ...\n",
    "rand_arr = np.random.randint(0,1000, 1000)\n",
    "start = timer()\n",
    "quick_sort(rand_arr, 0, 999)\n",
    "end = timer()\n",
    "print(end-start)\n",
    "# ... End of your code"
   ]
  },
  {
   "cell_type": "code",
   "execution_count": 14,
   "id": "0f9332d7",
   "metadata": {},
   "outputs": [
    {
     "name": "stdout",
     "output_type": "stream",
     "text": [
      "0.1519378749999305\n"
     ]
    }
   ],
   "source": [
    "# [Q1 - (3)] Start your code ...\n",
    "asc_arr = np.arange(0, 1000)\n",
    "start = timer()\n",
    "quick_sort(asc_arr, 0, 999)\n",
    "end = timer()\n",
    "print(end-start)\n",
    "\n",
    "# ... End of your code"
   ]
  },
  {
   "cell_type": "code",
   "execution_count": 15,
   "id": "d3a74dcc",
   "metadata": {},
   "outputs": [
    {
     "name": "stdout",
     "output_type": "stream",
     "text": [
      "0.11347449999993842\n"
     ]
    }
   ],
   "source": [
    "# [Q1 - (4)] Start your code ...\n",
    "desc_arr = np.arange(1000, 0, -1)\n",
    "start = timer()\n",
    "quick_sort(desc_arr, 0, 999)\n",
    "end = timer()\n",
    "print(end-start)\n",
    "\n",
    "# ... End of your code"
   ]
  },
  {
   "cell_type": "markdown",
   "id": "31a94a90",
   "metadata": {},
   "source": [
    "<markdown> [Q1 - (5)] --- \n",
    "    The reason why the run times of Q1(3) and Q1(4) are worse than that of Q1(2) is because of partitioning issues that arise. In this implementation of quick sort, we always choose the highest element of the array as the pivot which does slow the whole algorithm down because the arrays of Q1(3) and Q1(4) are already either ascending or descending sorted. The run time of quick sort is dependent on whether or not the partitioning is balanced or not. If it is unbalanced, then the algorithm can run as slowly as insertion sort which is $\\Theta(n^2)$. Therefore, because the inputs in Q1(3) and Q1(4) are sorted in ascending and descending order they run as as bad as insertion sort's $\\Theta(n^2)$."
   ]
  },
  {
   "cell_type": "code",
   "execution_count": 28,
   "id": "1dc988d6",
   "metadata": {},
   "outputs": [],
   "source": [
    "# [Q1 - (6)] Start your code ...\n",
    "def modified_partition(arr, low, high):\n",
    "    # your code here (remove pass)\n",
    "    i = random.randint(low, high)\n",
    "    temp = arr[high]\n",
    "    arr[high] = arr[i]\n",
    "    arr[i] = temp\n",
    "    return partition(arr, low, high)\n",
    "\n",
    "\n",
    "def modified_quick_sort(arr, low, high):\n",
    "    # your code here (remove pass)\n",
    "    if low < high:\n",
    "        q = modified_partition(arr, low, high)\n",
    "        quick_sort(arr, low, q-1)\n",
    "        quick_sort(arr, q+1, high)\n"
   ]
  },
  {
   "cell_type": "code",
   "execution_count": 29,
   "id": "1a2a5066",
   "metadata": {},
   "outputs": [
    {
     "name": "stdout",
     "output_type": "stream",
     "text": [
      "0.13482687499890744\n",
      "0.06230154200056859\n"
     ]
    }
   ],
   "source": [
    "# [Q1 - (6)] measure and print the running time for ascending and descending order input arrays\n",
    "asc_arr = np.arange(0, 1000)\n",
    "start = timer()\n",
    "modified_quick_sort(asc_arr, 0, 999)\n",
    "end = timer()\n",
    "print(end-start)\n",
    "\n",
    "desc_arr = np.arange(1000, 0, -1)\n",
    "start = timer()\n",
    "modified_quick_sort(desc_arr, 0, 999)\n",
    "end = timer()\n",
    "print(end-start)\n",
    "\n",
    "# ... End of your code"
   ]
  },
  {
   "cell_type": "markdown",
   "id": "2723ce5f",
   "metadata": {},
   "source": [
    "## Q2. HeapSort"
   ]
  },
  {
   "cell_type": "code",
   "execution_count": 11,
   "id": "112100d1",
   "metadata": {},
   "outputs": [],
   "source": [
    "# Q2 Start your code ...\n",
    "def left(i):\n",
    "    return 2*i + 1\n",
    "\n",
    "def right(i):\n",
    "    return 2*i + 2\n",
    "\n",
    "\n",
    "def heapify(arr, n, i):\n",
    "    # arr: input array, n: heap-size, i: index rooted at\n",
    "    # your code here (remove pass) \n",
    "    l = left(i)\n",
    "    r = right(i)\n",
    "    \n",
    "    if l < n and arr[l] < arr[i]:\n",
    "        smallest = l\n",
    "    else:\n",
    "        smallest = i\n",
    "    \n",
    "    if r < n and arr[r] < arr[smallest]:\n",
    "        smallest = r\n",
    "    \n",
    "    if smallest != i:\n",
    "        temp = arr[i]\n",
    "        arr[i] = arr[smallest]\n",
    "        arr[smallest] = temp\n",
    "        heapify(arr, n, smallest)\n",
    "\n",
    "\n",
    "def build_heap(arr, n):\n",
    "    # your code here (remove pass)\n",
    "    for i in range(int(n/2) - 1, -1, -1):\n",
    "        heapify(arr, n, i)\n",
    " \n",
    "\n",
    "def heap_sort(arr):\n",
    "    # your code here (remove pass)\n",
    "    n = len(arr)\n",
    "    build_heap(arr, n)\n",
    "    \n",
    "    for i in range(n-1, -1, -1):\n",
    "        temp = arr[0]\n",
    "        arr[0] = arr[i]\n",
    "        arr[i] = temp\n",
    "\n",
    "        heapify(arr, i, 0)\n",
    "        \n"
   ]
  },
  {
   "cell_type": "code",
   "execution_count": 12,
   "id": "b2dcf545",
   "metadata": {},
   "outputs": [
    {
     "name": "stdout",
     "output_type": "stream",
     "text": [
      "[84, 62, 56, 54, 53, 53, 37, 36, 33, 28, 21, 6, 2, -7, -19, -27, -31, -32, -90, -97]\n"
     ]
    }
   ],
   "source": [
    "A = [-31,  53,  84,  62, -32, -97, -19,  6,  33,  56,  28,  -7,  54,  53,   2, -27,  36,  21, 37, -90]\n",
    "# your code for evaluating heap_sort\n",
    "\n",
    "heap_sort(A)\n",
    "print(A)\n",
    "\n",
    "\n",
    "# ... End of your code"
   ]
  },
  {
   "cell_type": "markdown",
   "id": "9e973ac5",
   "metadata": {},
   "source": [
    "## Q3. Sorting algorithm"
   ]
  },
  {
   "cell_type": "code",
   "execution_count": 13,
   "id": "1d252dc3",
   "metadata": {},
   "outputs": [],
   "source": [
    "# Q3 start your code ...\n",
    "def my_sort(arr):\n",
    "    # arr: 2-D input array; you can add more arguments if it needs\n",
    "    # your code here (remove pass)\n",
    "    n = len(arr)\n",
    "    A = []\n",
    "    for i in range(0, 3):\n",
    "        for j in range(0, n):\n",
    "            if arr[j][1] == i:\n",
    "                A.append(arr[j])\n",
    "    return A\n",
    "    \n",
    "    "
   ]
  },
  {
   "cell_type": "code",
   "execution_count": 14,
   "id": "0ecdcd2b",
   "metadata": {},
   "outputs": [
    {
     "name": "stdout",
     "output_type": "stream",
     "text": [
      "[[6, 0], [247, 0], [633, 0], [793, 0], [212, 1], [352, 1], [388, 1], [779, 1], [694, 2], [859, 2]]\n"
     ]
    }
   ],
   "source": [
    "arr = [[6, 0], [212, 1], [247, 0], [352, 1], [388, 1], [633, 0], [694, 2], [779, 1], [793, 0], [859, 2]]\n",
    "# your code for evaluating my_sort\n",
    "\n",
    "print(my_sort(arr))\n",
    "\n",
    "# ... End of your code\n",
    "#arr.sort(key=lambda x: x[1])"
   ]
  },
  {
   "cell_type": "markdown",
   "id": "0ea281a4",
   "metadata": {},
   "source": [
    "## Q4. Min-Max divide and conquer"
   ]
  },
  {
   "cell_type": "code",
   "execution_count": 18,
   "id": "3123a94b",
   "metadata": {},
   "outputs": [],
   "source": [
    "# Q4 start your code ...\n",
    "def minmax_dc(arr, low, high):\n",
    "    # arr: inputs, low & high: first & last index of an array \n",
    "    # your code here (remove pass)\n",
    "    if low == high:\n",
    "        return arr[low], arr[low]\n",
    "    \n",
    "    if high == low + 1:\n",
    "        if (arr[low] > arr[high]):\n",
    "            min = arr[high]\n",
    "            max = arr[low]\n",
    "        else:\n",
    "            min = arr[low]\n",
    "            max = arr[high]\n",
    "        return min, max\n",
    "    \n",
    "    else:\n",
    "        d = (low + high) // 2\n",
    "        lmin, lmax = minmax_dc(arr, low, d)\n",
    "        rmin, rmax = minmax_dc(arr, d + 1, high)\n",
    "        \n",
    "        if (lmax > rmax):\n",
    "            max = lmax\n",
    "        else:\n",
    "            max = rmax\n",
    "        if (lmin < rmin):\n",
    "            min = lmin\n",
    "        else:\n",
    "            min = rmin\n",
    "        \n",
    "        return min, max\n",
    "    \n"
   ]
  },
  {
   "cell_type": "code",
   "execution_count": 19,
   "id": "f268602d",
   "metadata": {},
   "outputs": [
    {
     "name": "stdout",
     "output_type": "stream",
     "text": [
      "(-100, 97)\n"
     ]
    }
   ],
   "source": [
    "A = [-100, 10, 5, 6, -62, 23, 14, 4, 7, -78, 3, -12, 94, 97, -32, 1, 2]\n",
    "\n",
    "\n",
    "print(minmax_dc(A, 0, len(A)-1))\n",
    "# ... End of your code"
   ]
  },
  {
   "cell_type": "markdown",
   "id": "715567ea",
   "metadata": {},
   "source": [
    "## Q5. Dynamic programming\n"
   ]
  },
  {
   "cell_type": "markdown",
   "id": "04f1d545",
   "metadata": {},
   "source": [
    "<markdown> [Q5 - (1)] Design: This problem can be solved with dynamic programming by being broken down into subproblems in size order by smallest first. This is known as the bottom-up approach to dynamic programming. We have to first create and initialize a new array[0...V+1] filled with values of False. This array will store the solutions of subproblems that will find if the current index of the array can be created using the coins given which is how we will find if the amount V can be created using the given coins. We make the first index 0 True because the change 0 can always be created using any combination of coins. Now for every coin we loop again for every index starting at the current coin value and fill the array with true by using previously solved subproblems. We do so all the way until the index value for V and return the value held at that index which will be either True or False. The array at dp[i] is True if dp[i - coin] is True. It uses the base case of dp[0] being True to maintain this condition. "
   ]
  },
  {
   "cell_type": "code",
   "execution_count": 14,
   "id": "866be44e",
   "metadata": {},
   "outputs": [],
   "source": [
    "# [Q5 - (2)] Implementation\n",
    "def make_change(coins, V) -> bool:\n",
    "    # Write your code (remove pass)\n",
    "    dp = [False] * (V+1)\n",
    "    dp[0] = True\n",
    "    for coin in coins:\n",
    "        for i in range(coin, V+1):\n",
    "            if i >= coin and dp[i-coin]:\n",
    "                dp[i] = True\n",
    "            \n",
    "    return dp[V]"
   ]
  },
  {
   "cell_type": "code",
   "execution_count": 15,
   "id": "f3e169df",
   "metadata": {},
   "outputs": [
    {
     "name": "stdout",
     "output_type": "stream",
     "text": [
      "False\n",
      "True\n"
     ]
    }
   ],
   "source": [
    "# Do not change the test code in this cell\n",
    "coins = [5, 10]\n",
    "V1 = 121\n",
    "V2 = 150\n",
    "\n",
    "print(make_change(coins, V1))\n",
    "print(make_change(coins, V2))"
   ]
  },
  {
   "cell_type": "code",
   "execution_count": 23,
   "id": "1cd5399e",
   "metadata": {},
   "outputs": [],
   "source": [
    "# [Q5 - (3)] Evaluation\n",
    "def make_change_recursive(coins, V) -> bool:\n",
    "    # Write your code (remove pass)\n",
    "    if V == 0:\n",
    "        return True\n",
    "    \n",
    "    if V < 0:\n",
    "        return False\n",
    "\n",
    "    for coin in coins:\n",
    "        return make_change_recursive(coins, V-coin)\n",
    "    \n",
    "    \n",
    "\n",
    "\n",
    "\n"
   ]
  },
  {
   "cell_type": "code",
   "execution_count": 24,
   "id": "8b8ce074",
   "metadata": {},
   "outputs": [
    {
     "name": "stdout",
     "output_type": "stream",
     "text": [
      "False\n",
      "True\n"
     ]
    }
   ],
   "source": [
    "# Do not change the test code in this cell\n",
    "print(make_change_recursive(coins, V1))\n",
    "print(make_change_recursive(coins, V2))"
   ]
  },
  {
   "cell_type": "code",
   "execution_count": 25,
   "id": "33305703",
   "metadata": {},
   "outputs": [
    {
     "name": "stdout",
     "output_type": "stream",
     "text": [
      "run make_change() for 100 times: \n",
      "0.00297724999836646\n",
      "run make_change_recursive() for 100 times: \n",
      "0.0008532909996574745\n"
     ]
    }
   ],
   "source": [
    "# Comparing running time using timeit module, you don't need to change anything in this cell\n",
    "print('run make_change() for 100 times: ')\n",
    "print(timeit.timeit(lambda: make_change(coins, V1), number=200))\n",
    "\n",
    "print('run make_change_recursive() for 100 times: ')\n",
    "print(timeit.timeit(lambda: make_change_recursive(coins, V1), number=200))"
   ]
  },
  {
   "cell_type": "code",
   "execution_count": null,
   "id": "9d11b158",
   "metadata": {},
   "outputs": [],
   "source": []
  }
 ],
 "metadata": {
  "kernelspec": {
   "display_name": "Python 3 (ipykernel)",
   "language": "python",
   "name": "python3"
  },
  "language_info": {
   "codemirror_mode": {
    "name": "ipython",
    "version": 3
   },
   "file_extension": ".py",
   "mimetype": "text/x-python",
   "name": "python",
   "nbconvert_exporter": "python",
   "pygments_lexer": "ipython3",
   "version": "3.11.4"
  }
 },
 "nbformat": 4,
 "nbformat_minor": 5
}
