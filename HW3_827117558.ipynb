{
 "cells": [
  {
   "cell_type": "markdown",
   "id": "3e7a18c2",
   "metadata": {},
   "source": [
    "## <center>Programming HW #3</center>"
   ]
  },
  {
   "cell_type": "code",
   "execution_count": 1,
   "id": "80756941",
   "metadata": {},
   "outputs": [],
   "source": [
    "import numpy as np\n",
    "# Import timer lib. to measure running time\n",
    "from timeit import default_timer as timer\n",
    "# Import plot lib. to plot results\n",
    "import matplotlib.pyplot as plt\n",
    "import math, sys\n",
    "from typing import List\n",
    "import timeit"
   ]
  },
  {
   "cell_type": "markdown",
   "id": "bf822db1",
   "metadata": {},
   "source": [
    "## Q1."
   ]
  },
  {
   "cell_type": "code",
   "execution_count": 3,
   "id": "8128a77b",
   "metadata": {},
   "outputs": [],
   "source": [
    "# Q1-(1)\n",
    "def MatrixChainOrder(m, p, i, j):\n",
    "    # Write your code here (remove pass)\n",
    "    if m[i][j] != np.inf:\n",
    "        return m[i][j]\n",
    "    \n",
    "    if i == j:\n",
    "        m[i][j] = 0\n",
    "    else:\n",
    "        for k in range(i, j):\n",
    "            q = MatrixChainOrder(m,p,i,k) + MatrixChainOrder(m,p,k+1,j) + p[i-1] * p[k] * p[j]\n",
    "            if q < m[i][j]:\n",
    "                m[i][j] = q\n",
    "                \n",
    "    return m[i][j]\n",
    "\n",
    "def MemoizedMatrixChain(p):\n",
    "    n = len(p)\n",
    "    m = []\n",
    "    for i in range(0, n):\n",
    "        m.append([])\n",
    "        for j in range(0, n):\n",
    "            m[i].append(np.inf)\n",
    "\n",
    "    return MatrixChainOrder(m, p, 1, n-1)"
   ]
  },
  {
   "cell_type": "code",
   "execution_count": 4,
   "id": "57a8ae2e",
   "metadata": {},
   "outputs": [
    {
     "name": "stdout",
     "output_type": "stream",
     "text": [
      "21012\n",
      "0.0002444579999973939\n"
     ]
    }
   ],
   "source": [
    "p = [9, 46, 4, 18, 21, 40, 19, 25, 14, 37, 33]\n",
    "## Write your code Q1-(1)\n",
    "\n",
    "start = timer()\n",
    "print(MemoizedMatrixChain(p))\n",
    "end = timer()\n",
    "print(end - start)\n",
    "\n",
    "## End of your code Q1-(1)"
   ]
  },
  {
   "cell_type": "code",
   "execution_count": 7,
   "id": "003b83eb",
   "metadata": {},
   "outputs": [],
   "source": [
    "# Q1-(2)\n",
    "def matrixChainMemoised(p):\n",
    "    # Write your code here (remove pass)\n",
    "    n = len(p)\n",
    "    m = [[0 for x in range(n)] for x in range(n)]\n",
    "    \n",
    "    for l in range(2, n):\n",
    "        for i in range(1, n-l + 1):\n",
    "            j = i + l-1\n",
    "            m[i][j] = np.inf\n",
    "            \n",
    "            for k in range(i, j):\n",
    "                q = m[i][k] + m[k+1][j] + p[i-1] * p[k] * p[j]\n",
    "                if q < m[i][j]:\n",
    "                    m[i][j] = q\n",
    "    return m[1][n-1]"
   ]
  },
  {
   "cell_type": "code",
   "execution_count": 8,
   "id": "acb018ff",
   "metadata": {},
   "outputs": [
    {
     "name": "stdout",
     "output_type": "stream",
     "text": [
      "21012\n",
      "0.00018166699965149746\n"
     ]
    }
   ],
   "source": [
    "## Write your code Q1-(2)\n",
    "\n",
    "p = [9, 46, 4, 18, 21, 40, 19, 25, 14, 37, 33]\n",
    "start = timer()\n",
    "print(matrixChainMemoised(p))\n",
    "end = timer()\n",
    "print(end - start)\n",
    "\n",
    "## End of your code Q1-(2)"
   ]
  },
  {
   "cell_type": "code",
   "execution_count": 10,
   "id": "b9c49c66",
   "metadata": {},
   "outputs": [],
   "source": [
    "# Q1-(3)\n",
    "n = len(p) - 1\n",
    "matrix = [f'A{i+1}' for i in range(n)]\n",
    "\n",
    "def PrintOptimalParens(s, i, j, Matrix):\n",
    "    # Write your code here (remove pass)\n",
    "    if ( i == j):\n",
    "        print(\"A\" + str(i), end=\"\")\n",
    "        return\n",
    "    else:\n",
    "        print(\"(\", end = \"\")\n",
    "        PrintOptimalParens(s, i, s[i][j], Matrix)\n",
    "        PrintOptimalParens(s, s[i][j]+1, j, Matrix)\n",
    "        print(\")\", end = \"\")\n",
    "\n",
    "def matrixChainBotUpParens(p):\n",
    "    n = len(p)\n",
    "    m = [[0 for x in range(n)] for x in range(n)]\n",
    "    s = [[0 for c in range(n)] for c in range(n)]\n",
    "    \n",
    "    for l in range(2, n):\n",
    "        for i in range(1, n-l + 1):\n",
    "            j = i + l-1\n",
    "            m[i][j] = np.inf\n",
    "            for k in range(i,j):\n",
    "                q = m[i][k] + m[k+1][j] + p[i-1] * p[k] * p[j]\n",
    "                if q < m[i][j]:\n",
    "                    m[i][j] = q\n",
    "                s[i][j] = k\n",
    "    PrintOptimalParens(s, 1, n - 1, m)"
   ]
  },
  {
   "cell_type": "code",
   "execution_count": 13,
   "id": "ca6a8d4b",
   "metadata": {},
   "outputs": [
    {
     "name": "stdout",
     "output_type": "stream",
     "text": [
      "(((((((((A1A2)A3)A4)A5)A6)A7)A8)A9)A10)None\n",
      "0.00027549999958864646\n"
     ]
    }
   ],
   "source": [
    "## Write your code Q1-(3)\n",
    "\n",
    "p = [9, 46, 4, 18, 21, 40, 19, 25, 14, 37, 33]\n",
    "start = timer()\n",
    "print(matrixChainBotUpParens(p))\n",
    "end = timer()\n",
    "print(end-start)\n",
    "\n",
    "## End of your code Q1-(3)"
   ]
  },
  {
   "cell_type": "markdown",
   "id": "8579690f",
   "metadata": {},
   "source": [
    "## Q2."
   ]
  },
  {
   "cell_type": "code",
   "execution_count": 14,
   "id": "0eb91d65",
   "metadata": {},
   "outputs": [],
   "source": [
    "cost = [[4, 187, 14, 156, 49,  2, 105,  97, 184,  92],\n",
    " [100, 153, 159,  86,  95, 159,  53,  10, 175,  76],\n",
    " [ 99,  49, 140, 146,  32,  82,  94, 140,   4, 198],\n",
    " [ 59, 108, 149,  20,  94,  33,  79,  19,  63,  76],\n",
    " [ 41, 136,  67, 102, 157, 105,  33, 155, 122,  69],\n",
    " [ 44,   5,  16,  40,  16, 181, 142,  89,  61,  35],\n",
    " [181, 154, 101, 147,  55, 143,  76,   5, 184,  66],\n",
    " [ 23, 119,  83, 176, 144,  78, 191,  86, 151,  43],\n",
    " [198,  17, 149,  35,  30, 150,  52, 183, 154,  75],\n",
    " [160,  26, 168,   5, 137, 115,  75, 158,  25, 184]]\n",
    "\n",
    "def min(x, y, z):\n",
    "    if (x < y):\n",
    "        return x if (x < z) else z\n",
    "    else:\n",
    "        return y if (y < z) else z"
   ]
  },
  {
   "cell_type": "code",
   "execution_count": 15,
   "id": "5fc34465",
   "metadata": {},
   "outputs": [],
   "source": [
    "# Q2-(1)\n",
    "def MinCost(cost, m, n):\n",
    "    # Write your code here (remove pass)\n",
    "    if (n < 0 or m < 0):\n",
    "        return np.inf\n",
    "    elif(m == 0 and n == 0):\n",
    "        return cost[m][n]\n",
    "    else:\n",
    "        return cost[m][n] + min(MinCost(cost,m-1,n-1), MinCost(cost,m-1,n), MinCost(cost,m,n-1))\n",
    "    "
   ]
  },
  {
   "cell_type": "code",
   "execution_count": 16,
   "id": "1cb22b29",
   "metadata": {},
   "outputs": [
    {
     "name": "stdout",
     "output_type": "stream",
     "text": [
      "893\n",
      "0.6164700839999568\n"
     ]
    }
   ],
   "source": [
    "# Write your code Q2-(1)\n",
    "\n",
    "start = timer()\n",
    "print(MinCost(cost, len(cost[0])-1, len(cost)-1))\n",
    "end = timer()\n",
    "print(end - start)\n",
    "\n",
    "\n",
    "## End of your code Q2-(1)"
   ]
  },
  {
   "cell_type": "code",
   "execution_count": 20,
   "id": "866bfbae",
   "metadata": {},
   "outputs": [],
   "source": [
    "# Q2-(2)\n",
    "def BottomUpMinCost(cost):\n",
    "    # Write your code here (remove pass)\n",
    "    m = len(cost[0]) - 1\n",
    "    n = len(cost) - 1\n",
    "    dp = [[0 for x in range(m+1)] for x in range(n+1)]\n",
    "    dp[0][0] = cost[0][0]\n",
    "    \n",
    "    for i in range(1, m+1):\n",
    "        dp[i][0] = dp[i-1][0] + cost[i][0]\n",
    "   \n",
    "    for j in range(1, n+1):\n",
    "        dp[0][j] = dp[0][j-1] + cost[0][j]\n",
    "    \n",
    "    for i in range(1, m+1):\n",
    "        for j in range(1, n+1):\n",
    "            dp[i][j] = min(dp[i-1][j-1], dp[i-1][j], dp[i][j-1]) + cost[i][j]\n",
    "    \n",
    "    return dp[m][n]"
   ]
  },
  {
   "cell_type": "code",
   "execution_count": 22,
   "id": "c8eb22c5",
   "metadata": {},
   "outputs": [
    {
     "name": "stdout",
     "output_type": "stream",
     "text": [
      "893\n",
      "0.00014387499959411798\n"
     ]
    }
   ],
   "source": [
    "# Write your code Q2-(2)\n",
    "\n",
    "start = timer()\n",
    "print(BottomUpMinCost(cost))\n",
    "end = timer()\n",
    "print(end - start)\n",
    "\n",
    "## End of your code Q2-(2)"
   ]
  },
  {
   "cell_type": "code",
   "execution_count": 25,
   "id": "a6286e70",
   "metadata": {},
   "outputs": [],
   "source": [
    "# Q2-(3) : If you need extra functions, you can implement them\n",
    "def MemoizedMinCost(cost, m, n, dp):\n",
    "    if n < 0 or m < 0:\n",
    "        return np.inf\n",
    "    \n",
    "    elif m == 0 and n == 0:\n",
    "        return cost[m][n]\n",
    "    \n",
    "    if dp[m][n] != -1:\n",
    "        return dp[m][n]\n",
    "    \n",
    "    dp[m][n] = cost[m][n] + min(MemoizedMinCost(cost, m-1,n-1,dp), MemoizedMinCost(cost, m-1, n, dp), MemoizedMinCost(cost, m, n-1, dp))\n",
    "\n",
    "    return dp[m][n]\n",
    "    \n",
    "def TopDownMinCost(cost, m, n):\n",
    "    # Write your code here (remove pass)\n",
    "    x = m+1\n",
    "    y = n+1\n",
    "    dp = [[-1] * y for i in range(x)]\n",
    "    return MemoizedMinCost(cost, m, n, dp)"
   ]
  },
  {
   "cell_type": "code",
   "execution_count": 26,
   "id": "b25de8da",
   "metadata": {},
   "outputs": [
    {
     "name": "stdout",
     "output_type": "stream",
     "text": [
      "893\n",
      "0.0001863329998741392\n"
     ]
    }
   ],
   "source": [
    "# Write your code Q2-(3)\n",
    "\n",
    "m = len(cost[0])-1\n",
    "n = len(cost)-1\n",
    "start = timer()\n",
    "print(TopDownMinCost(cost, m, n))\n",
    "end = timer()\n",
    "print(end - start)\n",
    "\n",
    "## End of your code Q2-(3)"
   ]
  },
  {
   "cell_type": "code",
   "execution_count": 28,
   "id": "98314017",
   "metadata": {},
   "outputs": [],
   "source": [
    "# Q2-(4)\n",
    "def PrintMinCostPath(cost):\n",
    "    # Write your code here (remove pass)\n",
    "    m = len(cost[0]) - 1\n",
    "    n = len(cost) - 1\n",
    "    dp = [[0 for x in range(m+1)] for x in range(n+1)]\n",
    "    dp[0][0] = cost[0][0]\n",
    "    \n",
    "    for i in range(1, m+1):\n",
    "        dp[i][0] = dp[i-1][0] + cost[i][0]\n",
    "   \n",
    "    for j in range(1, n+1):\n",
    "        dp[0][j] = dp[0][j-1] + cost[0][j]\n",
    "    \n",
    "    for i in range(1, m+1):\n",
    "        for j in range(1, n+1):\n",
    "            dp[i][j] = min(dp[i-1][j-1], dp[i-1][j], dp[i][j-1]) + cost[i][j]\n",
    "    print(dp[m][n])\n",
    "    \n",
    "    out = []\n",
    "    x = m\n",
    "    y = n\n",
    "    for i in range(m, -1, -1):\n",
    "        for j in range(n, -1, -1):\n",
    "            if i == x and j == y:\n",
    "                if dp[i-1][j-1] == dp[i][j]-cost[i][j]:\n",
    "                    x = i-1\n",
    "                    y = j-1\n",
    "                    out.append(\"(\" + str(i-1) + \",\" + str(j-1) + \")\")\n",
    "                elif dp[i-1][j] == dp[i][j]-cost[i][j]:\n",
    "                    x = i-1\n",
    "                    y = j\n",
    "                    out.append(\"(\" + str(i-1) + \",\" + str(j) + \")\")\n",
    "                elif dp[i][j-1] == dp[i][j]-cost[i][j]:\n",
    "                    x=i\n",
    "                    y=j-1\n",
    "                    out.append(\"(\" + str(i) + \",\" + str(j-1) + \")\")\n",
    "            else:\n",
    "                continue\n",
    "        \n",
    "    for i in range(len(out)-1, -1, -1):\n",
    "        print(out[i] + \"->\", end=\"\")\n",
    "    print(\"(\" + str(m) + \",\" + str(n) + \")\")"
   ]
  },
  {
   "cell_type": "code",
   "execution_count": 29,
   "id": "ca751d69",
   "metadata": {},
   "outputs": [
    {
     "name": "stdout",
     "output_type": "stream",
     "text": [
      "893\n",
      "(0,0)->(0,1)->(0,2)->(1,3)->(2,4)->(3,5)->(4,6)->(5,7)->(6,7)->(7,8)->(8,9)->(9,9)\n",
      "None\n",
      "0.0002522920003684703\n"
     ]
    }
   ],
   "source": [
    "# Write your code Q2-(4)\n",
    "\n",
    "start = timer()\n",
    "print(PrintMinCostPath(cost))\n",
    "end = timer()\n",
    "print(end - start)\n",
    "\n",
    "## End of your code Q2-(4)"
   ]
  },
  {
   "cell_type": "markdown",
   "id": "84b8708c",
   "metadata": {},
   "source": [
    "## Q3."
   ]
  },
  {
   "cell_type": "code",
   "execution_count": 5,
   "id": "8a5880b1",
   "metadata": {},
   "outputs": [],
   "source": [
    "# A class for undirected graph object\n",
    "class UGraph:\n",
    "    def __init__(self, edges, n):\n",
    "        # A list of lists to represent an adjacency list\n",
    "        self.adjList = [[] for _ in range(n)]\n",
    " \n",
    "        # add edges to the undirected graph\n",
    "        for (src, dest) in edges:\n",
    "            self.adjList[src].append(dest)\n",
    "            self.adjList[dest].append(src)"
   ]
  },
  {
   "cell_type": "code",
   "execution_count": 6,
   "id": "fd4d67b4",
   "metadata": {},
   "outputs": [],
   "source": [
    "# Q3-(1)\n",
    "def DFSR(graph, discovered):\n",
    "    # Write your code here (remove pass)\n",
    "    v = 0\n",
    "    DFSRecursive(graph, v, discovered)\n",
    "\n",
    "def DFSRecursive(graph, v, discovered):\n",
    "    # Write your code here (remove pass)\n",
    "    discovered[v] = True\n",
    "    print(v, end=\" \")\n",
    "    for next in graph.adjList[v]:\n",
    "        if discovered[next] == False:\n",
    "            DFSRecursive(graph, next, discovered)\n",
    "    "
   ]
  },
  {
   "cell_type": "code",
   "execution_count": 7,
   "id": "6be306f1",
   "metadata": {},
   "outputs": [
    {
     "name": "stdout",
     "output_type": "stream",
     "text": [
      "DFS recursive\n",
      "0 1 2 3 4 5 6 7 8 9 10 11 "
     ]
    }
   ],
   "source": [
    "# Nothing to be modified in this cell, but should print the answer for Q3-(1)\n",
    "edges = [(0, 1), (0, 6), (0, 7), (1, 2), (1, 5), (2, 3),\n",
    "    (2, 4), (7, 8), (7, 11), (8, 9), (8, 10)]\n",
    "\n",
    "# Total number of vertices in the graph (labelled from 0 to 13)\n",
    "# Assume that vertex 12 and 13 do not have any connections with others\n",
    "n = 14\n",
    "\n",
    "# Build a graph from the given edges\n",
    "graph = UGraph(edges, n)\n",
    "\n",
    "# A variable to keep track of whether a vertex is discovered or not\n",
    "discovered = [False] * n\n",
    "\n",
    "# Perform DFS traversal from all undiscovered nodes \n",
    "# to cover all connected components of a graph\n",
    "print('DFS recursive')\n",
    "DFSR(graph, discovered)"
   ]
  },
  {
   "cell_type": "code",
   "execution_count": 12,
   "id": "c11a517a",
   "metadata": {},
   "outputs": [],
   "source": [
    "# Q3-(2)\n",
    "from collections import deque\n",
    "\n",
    "def DFSI(graph, discovered):\n",
    "    # Write your code here (remove pass)\n",
    "    DFSIterative(graph, 0, discovered)\n",
    "\n",
    "def DFSIterative(graph, v, discovered):\n",
    "    # Write your code here (remove pass)\n",
    "    s = deque()\n",
    "    s.append(v)\n",
    "    \n",
    "    while (s):\n",
    "        v = s.pop()\n",
    "        \n",
    "        if (discovered[v] == True):\n",
    "            continue\n",
    "        discovered[v] = True\n",
    "        print(v, end=\" \")\n",
    "        \n",
    "        adjV = graph.adjList[v]\n",
    "        for i in reversed(range(len(adjV))):\n",
    "            u = adjV[i]\n",
    "            if (discovered[u] == False):\n",
    "                s.append(u)"
   ]
  },
  {
   "cell_type": "code",
   "execution_count": 13,
   "id": "b9a5c387",
   "metadata": {},
   "outputs": [
    {
     "name": "stdout",
     "output_type": "stream",
     "text": [
      "DFS iterative\n",
      "0 1 2 3 4 5 6 7 8 9 10 11 "
     ]
    }
   ],
   "source": [
    "# Nothing to be modified in this cell, but should print the answer for Q3-(2)\n",
    "# A variable to keep track of whether a vertex is discovered or not\n",
    "discovered = [False] * n\n",
    "\n",
    "# Perform DFS traversal from all undiscovered nodes \n",
    "# to cover all connected components of a graph\n",
    "print('DFS iterative')\n",
    "DFSI(graph, discovered)"
   ]
  },
  {
   "cell_type": "markdown",
   "id": "489818f4",
   "metadata": {},
   "source": [
    "## Q4."
   ]
  },
  {
   "cell_type": "code",
   "execution_count": 51,
   "id": "feb3f75c",
   "metadata": {},
   "outputs": [],
   "source": [
    "# Q4\n",
    "from collections import deque\n",
    "\n",
    "def BFSI(graph, discovered):\n",
    "    # Write your code here (remove pass)\n",
    "    for i in range(len(discovered)):\n",
    "        BFSIterative(graph, i, discovered)\n",
    "\n",
    "def BFSIterative(graph, v, discovered):\n",
    "    # Write your code here (remove pass)\n",
    "    q = deque()\n",
    "    discovered[v] = True\n",
    "    q.append(v)\n",
    "    while q:\n",
    "        v = q.popleft()\n",
    "        print(v, end= \" \")\n",
    "        \n",
    "        for u in graph.adjList[v]:\n",
    "            if discovered[u] == False:\n",
    "                discovered[u] = True\n",
    "                q.append(u)"
   ]
  },
  {
   "cell_type": "code",
   "execution_count": 52,
   "id": "d559be67",
   "metadata": {},
   "outputs": [
    {
     "name": "stdout",
     "output_type": "stream",
     "text": [
      "BFS iterative\n",
      "0 1 6 7 2 5 8 11 3 4 9 10 1 2 3 4 5 6 7 8 9 10 11 12 13 "
     ]
    }
   ],
   "source": [
    "# Nothing to be modified in this cell, but should print the answer for Q4\n",
    "# A variable to keep track of whether a vertex is discovered or not\n",
    "discovered = [False] * n\n",
    "\n",
    "# Perform DFS traversal from all undiscovered nodes \n",
    "# to cover all connected components of a graph\n",
    "print('BFS iterative')\n",
    "BFSI(graph, discovered)"
   ]
  },
  {
   "cell_type": "markdown",
   "id": "f23d5a6b",
   "metadata": {},
   "source": [
    "## Q5."
   ]
  },
  {
   "cell_type": "code",
   "execution_count": 55,
   "id": "a420ad38",
   "metadata": {},
   "outputs": [],
   "source": [
    "# A class for directed graph object\n",
    "class DGraph:\n",
    "    def __init__(self, edges, n):\n",
    " \n",
    "        # A list of lists to represent an adjacency list\n",
    "        self.adjList = [[] for _ in range(n)]\n",
    " \n",
    "        # add edges to the directed graph\n",
    "        for (src, dest) in edges:\n",
    "            # add an edge from source to destination\n",
    "            self.adjList[src].append(dest)"
   ]
  },
  {
   "cell_type": "code",
   "execution_count": 56,
   "id": "9aebc9ca",
   "metadata": {},
   "outputs": [],
   "source": [
    "# Q5\n",
    "def isStronglyConnected(graph, n):\n",
    "    # Write your code here (remove pass)\n",
    "    for i in range(n):\n",
    "        discovered = [False] * n\n",
    "        DFSR(graph, discovered)\n",
    "        \n",
    "        for vertice in discovered:\n",
    "            if not vertice:\n",
    "                return False\n",
    "            \n",
    "    return True"
   ]
  },
  {
   "cell_type": "code",
   "execution_count": 57,
   "id": "cda3581a",
   "metadata": {},
   "outputs": [
    {
     "name": "stdout",
     "output_type": "stream",
     "text": [
      "0 4 3 1 2 0 4 3 1 2 0 4 3 1 2 0 4 3 1 2 0 4 3 1 2 The graph is strongly connected\n"
     ]
    }
   ],
   "source": [
    "# Nothing to be modified in this cell, but it should print out the result\n",
    "edges = [(0, 4), (1, 0), (1, 2), (2, 1), (2, 4), (3, 1), (3, 2), (4, 3)]\n",
    "\n",
    "# Total number of nodes in the graph\n",
    "n = 5\n",
    "\n",
    "# construct a directed graph\n",
    "dgraph = DGraph(edges, n)\n",
    "\n",
    "# check if the graph is not strongly connected or not\n",
    "if isStronglyConnected(dgraph, n):\n",
    "    print('The graph is strongly connected')\n",
    "else:\n",
    "    print('The graph is not strongly connected')"
   ]
  }
 ],
 "metadata": {
  "kernelspec": {
   "display_name": "Python 3 (ipykernel)",
   "language": "python",
   "name": "python3"
  },
  "language_info": {
   "codemirror_mode": {
    "name": "ipython",
    "version": 3
   },
   "file_extension": ".py",
   "mimetype": "text/x-python",
   "name": "python",
   "nbconvert_exporter": "python",
   "pygments_lexer": "ipython3",
   "version": "3.11.4"
  }
 },
 "nbformat": 4,
 "nbformat_minor": 5
}
